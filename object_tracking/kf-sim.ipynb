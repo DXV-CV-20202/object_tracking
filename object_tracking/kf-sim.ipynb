{
 "cells": [
  {
   "cell_type": "code",
   "execution_count": 1,
   "id": "responsible-offense",
   "metadata": {},
   "outputs": [],
   "source": [
    "import cv2 as cv\n",
    "import numpy as np"
   ]
  },
  {
   "cell_type": "code",
   "execution_count": 2,
   "id": "failing-transportation",
   "metadata": {},
   "outputs": [],
   "source": [
    "dt = 0.2\n",
    "F = np.array([\n",
    "    [1, 0, 0, 0, dt, 0, 0],\n",
    "    [0, 1, 0, 0, 0, dt, 0],\n",
    "    [0, 0, 1, 0, 0, 0, dt],\n",
    "    [0, 0, 0, 1, 0, 0, 0],\n",
    "    [0, 0, 0, 0, 1, 0, 0],\n",
    "    [0, 0, 0, 0, 0, 1, 0],\n",
    "    [0, 0, 0, 0, 0, 0, 1]\n",
    "])\n",
    "\n",
    "H = np.array([\n",
    "    [1, 0, 0, 0, 0, 0, 0],\n",
    "    [0, 1, 0, 0, 0, 0, 0],\n",
    "    [0, 0, 1, 0, 0, 0, 0],\n",
    "    [0, 0, 0, 1, 0, 0, 0]\n",
    "])\n",
    "\n",
    "Q = 1e-1 * np.eye(7, dtype=np.float32)\n",
    "Q[-1, -1] *= 0.01\n",
    "Q[4:, 4:] *= 0.01\n",
    "\n",
    "R = 1e-1 * np.eye(4, dtype=np.float32)\n",
    "R[2:, 2:] *= 10"
   ]
  },
  {
   "cell_type": "code",
   "execution_count": 3,
   "id": "willing-central",
   "metadata": {},
   "outputs": [],
   "source": [
    "x = np.array([22, 5, 19, 98, 10, 10, 10]).reshape((7, 1))\n",
    "\n",
    "P = 1e-1 * np.eye(7, dtype=np.float32)\n",
    "P[4:, 4:] *= 100\n",
    "\n",
    "# print(x)\n",
    "# print(P)"
   ]
  },
  {
   "cell_type": "code",
   "execution_count": 4,
   "id": "raising-technical",
   "metadata": {},
   "outputs": [],
   "source": [
    "z = np.array([26, 6, 18, 20]).reshape((4, 1))"
   ]
  },
  {
   "cell_type": "code",
   "execution_count": 5,
   "id": "outer-salad",
   "metadata": {},
   "outputs": [],
   "source": [
    "x_t = np.dot(F, x)\n",
    "P_t = np.dot(np.dot(F, P), np.transpose(F)) + Q\n",
    "\n",
    "# print(x_t)\n",
    "# print(P_t)"
   ]
  },
  {
   "cell_type": "code",
   "execution_count": 6,
   "id": "global-machinery",
   "metadata": {},
   "outputs": [],
   "source": [
    "y_t = z - np.dot(H, x_t)\n",
    "S_t = np.dot(np.dot(H, P_t), np.transpose(H)) + R\n",
    "K_t = np.dot(np.dot(P_t, np.transpose(H)), np.linalg.inv(S_t))\n",
    "\n",
    "# print(y_t)\n",
    "# print(S_t)\n",
    "# print(K_t)"
   ]
  },
  {
   "cell_type": "code",
   "execution_count": 7,
   "id": "graphic-discharge",
   "metadata": {},
   "outputs": [],
   "source": [
    "x_k = x_t + np.dot(K_t, y_t)\n",
    "P_k = np.dot((np.eye(7) - np.dot(K_t, H)), P_t)\n",
    "y_k = z - np.dot(H, x_k)"
   ]
  },
  {
   "cell_type": "code",
   "execution_count": 8,
   "id": "endless-advocacy",
   "metadata": {},
   "outputs": [
    {
     "name": "stdout",
     "output_type": "stream",
     "text": [
      "[22  5 19 98 10 10 10]\n",
      "[25.71428571  6.14285714 19.875      84.99999984 15.71428568  7.14285716\n",
      "  6.25000001]\n"
     ]
    }
   ],
   "source": [
    "print(np.transpose(x)[0])\n",
    "print(np.transpose(x_k)[0])"
   ]
  },
  {
   "cell_type": "code",
   "execution_count": null,
   "id": "norwegian-equity",
   "metadata": {},
   "outputs": [],
   "source": []
  }
 ],
 "metadata": {
  "kernelspec": {
   "display_name": "mt_venv",
   "language": "python",
   "name": "mt_venv"
  },
  "language_info": {
   "codemirror_mode": {
    "name": "ipython",
    "version": 3
   },
   "file_extension": ".py",
   "mimetype": "text/x-python",
   "name": "python",
   "nbconvert_exporter": "python",
   "pygments_lexer": "ipython3",
   "version": "3.7.1"
  }
 },
 "nbformat": 4,
 "nbformat_minor": 5
}
