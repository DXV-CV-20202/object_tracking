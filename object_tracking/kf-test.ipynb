{
 "cells": [
  {
   "cell_type": "code",
   "execution_count": 1,
   "id": "described-animation",
   "metadata": {},
   "outputs": [],
   "source": [
    "from filter import KalmanTracking\n",
    "import numpy as np"
   ]
  },
  {
   "cell_type": "code",
   "execution_count": 2,
   "id": "comfortable-spyware",
   "metadata": {},
   "outputs": [],
   "source": [
    "tracker = KalmanTracking([22, 5, 99, 98])"
   ]
  },
  {
   "cell_type": "code",
   "execution_count": 3,
   "id": "hispanic-ocean",
   "metadata": {},
   "outputs": [
    {
     "name": "stdout",
     "output_type": "stream",
     "text": [
      "[[22.  5. 99. 98.]]\n",
      "[[21.661182  4.680496 95.0531   95.74808 ]]\n"
     ]
    }
   ],
   "source": [
    "print(tracker.predict())\n",
    "print(tracker.correct([26, 4, 90, 96]))"
   ]
  },
  {
   "cell_type": "code",
   "execution_count": 4,
   "id": "elegant-tonight",
   "metadata": {},
   "outputs": [
    {
     "name": "stdout",
     "output_type": "stream",
     "text": [
      "[[20.193535  4.24992  90.52075  93.60722 ]]\n"
     ]
    }
   ],
   "source": [
    "# print(tracker.predict())\n",
    "print(tracker.correct([28, 3, 81, 94]))"
   ]
  },
  {
   "cell_type": "code",
   "execution_count": 5,
   "id": "distinguished-estimate",
   "metadata": {},
   "outputs": [
    {
     "name": "stdout",
     "output_type": "stream",
     "text": [
      "[[16.46429    3.5499802 84.82143   91.73573  ]]\n"
     ]
    }
   ],
   "source": [
    "# print(tracker.predict())\n",
    "print(tracker.correct([26, 2, 72, 92]))"
   ]
  }
 ],
 "metadata": {
  "kernelspec": {
   "display_name": "mt_venv",
   "language": "python",
   "name": "mt_venv"
  },
  "language_info": {
   "codemirror_mode": {
    "name": "ipython",
    "version": 3
   },
   "file_extension": ".py",
   "mimetype": "text/x-python",
   "name": "python",
   "nbconvert_exporter": "python",
   "pygments_lexer": "ipython3",
   "version": "3.7.1"
  }
 },
 "nbformat": 4,
 "nbformat_minor": 5
}
